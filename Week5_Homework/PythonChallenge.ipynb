{
 "cells": [
  {
   "cell_type": "code",
   "execution_count": 34,
   "id": "77d71ecf",
   "metadata": {},
   "outputs": [
    {
     "name": "stdout",
     "output_type": "stream",
     "text": [
      "creativecomputinginstitute\n"
     ]
    }
   ],
   "source": [
    "import re\n",
    "\n",
    "data = open('/Users/Mike/Desktop/SecretPlace.txt').read()\n",
    "word = re.findall(\"[0-9][0-9][a-z]\",data)\n",
    "#sort = sorted(answer)\n",
    "word.sort()\n",
    "organize = \"\".join(word)\n",
    "answer = re.findall(\"[a-z]\",organize)\n",
    "final = \"\".join(answer)\n",
    "print(final)"
   ]
  },
  {
   "cell_type": "code",
   "execution_count": null,
   "id": "bd10b403",
   "metadata": {},
   "outputs": [],
   "source": []
  }
 ],
 "metadata": {
  "kernelspec": {
   "display_name": "Python 3 (ipykernel)",
   "language": "python",
   "name": "python3"
  },
  "language_info": {
   "codemirror_mode": {
    "name": "ipython",
    "version": 3
   },
   "file_extension": ".py",
   "mimetype": "text/x-python",
   "name": "python",
   "nbconvert_exporter": "python",
   "pygments_lexer": "ipython3",
   "version": "3.9.7"
  }
 },
 "nbformat": 4,
 "nbformat_minor": 5
}
