{
 "cells": [
  {
   "cell_type": "code",
   "execution_count": null,
   "id": "00e988b3",
   "metadata": {},
   "outputs": [],
   "source": [
    "from urllib.request import urlopen as uReq\n",
    "from bs4 import BeautifulSoup as soup\n",
    "my_url = 'https://www.tate.org.uk/search?type=artwork'\n",
    "\n",
    "uClient = uReq(my_url)\n",
    "page_html = uClient.read()\n",
    "uClient.close()\n",
    "\n",
    "page_soup = soup(page_html, \"html.parser\")\n",
    "\n",
    "filename = \"TateCollections.csv\"\n",
    "f = open(filename, \"w\")\n",
    "headers = \"image_link, artist_name, title, age, link\\n\"\n",
    "f.write(headers)\n",
    "\n",
    "containers = page_soup.findAll(\"div\",{\"class\":\"card\"})\n",
    "\n",
    "contain = containers[0]\n",
    "container = containers[0]\n",
    "\n",
    "for container in containers:\n",
    "    image_container = container.findAll(\"img\",{\"alt\":\"\"})\n",
    "    image_link = image_container[0].get('src')\n",
    "    \n",
    "    artist_container = container.findAll(\"span\",{\"class\":\"card__title--artwork-artist\"})\n",
    "    artist_name = artist_container[0].text\n",
    "    \n",
    "    title_container = container.findAll(\"span\",{\"class\":\"\"})\n",
    "    title = title_container[0].text\n",
    "    \n",
    "    age_container = container.findAll(\"span\",{\"class\":\"card__when--artwork-date\"})\n",
    "    age = age_container[0].text\n",
    "    \n",
    "    link_container = container.findAll(\"div\",{\"class\":\"card-media__inner responsive-container\"})\n",
    "    link_detail = link_container[0].findAll('a')\n",
    "    link = link_detail[0].get('href')\n",
    "    \n",
    "    print(\"image link: \" + image_link)\n",
    "    print(\"artist name: \" + artist_name)\n",
    "    print(\"title: \" + title)\n",
    "    print(\"age: \" + age)\n",
    "    print(\"link: \" + \"https://www.tate.org.uk/\" + link)\n",
    "    \n",
    "    f.write(image_link + \",\" + artist_name.replace(\",\",\" \") + \",\" + title.replace(\",\",\" \") + \",\" + age.replace(\",\",\" \") + \",\" + link + \"\\n\")\n",
    "\n",
    "f.close()"
   ]
  }
 ],
 "metadata": {
  "kernelspec": {
   "display_name": "Python 3 (ipykernel)",
   "language": "python",
   "name": "python3"
  },
  "language_info": {
   "codemirror_mode": {
    "name": "ipython",
    "version": 3
   },
   "file_extension": ".py",
   "mimetype": "text/x-python",
   "name": "python",
   "nbconvert_exporter": "python",
   "pygments_lexer": "ipython3",
   "version": "3.9.7"
  }
 },
 "nbformat": 4,
 "nbformat_minor": 5
}
